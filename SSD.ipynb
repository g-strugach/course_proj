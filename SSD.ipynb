{
  "nbformat": 4,
  "nbformat_minor": 0,
  "metadata": {
    "colab": {
      "name": "SSD.ipynb",
      "provenance": [],
      "collapsed_sections": []
    },
    "kernelspec": {
      "name": "python3",
      "display_name": "Python 3"
    },
    "accelerator": "GPU"
  },
  "cells": [
    {
      "cell_type": "code",
      "metadata": {
        "id": "bO5U3VbLZFB_"
      },
      "source": [
        "\n",
        "from google.colab import drive\n",
        "drive.mount('/content/drive')"
      ],
      "execution_count": null,
      "outputs": []
    },
    {
      "cell_type": "markdown",
      "metadata": {
        "id": "SRpjr209DQ-i"
      },
      "source": [
        "Загрузка предобученной модели на COCO датасете."
      ]
    },
    {
      "cell_type": "code",
      "metadata": {
        "id": "YlbRcFYmDQ-h"
      },
      "source": [
        "import torch\n",
        "import os\n",
        "import random\n",
        "precision = 'fp32'\n",
        "ssd_model = torch.hub.load('NVIDIA/DeepLearningExamples:torchhub', 'nvidia_ssd', model_math=precision)"
      ],
      "execution_count": null,
      "outputs": []
    },
    {
      "cell_type": "code",
      "metadata": {
        "id": "Y13505kPDQ-i"
      },
      "source": [
        "%%bash\n",
        "pip install numpy scipy scikit-image matplotlib"
      ],
      "execution_count": null,
      "outputs": []
    },
    {
      "cell_type": "markdown",
      "metadata": {
        "id": "JhxnhUlODQ-i"
      },
      "source": [
        "Загрузка необходимых компонентов для анализа и визуализации результатов."
      ]
    },
    {
      "cell_type": "code",
      "metadata": {
        "id": "afoeo4yMDQ-i"
      },
      "source": [
        "utils = torch.hub.load('NVIDIA/DeepLearningExamples:torchhub', 'nvidia_ssd_processing_utils')"
      ],
      "execution_count": null,
      "outputs": []
    },
    {
      "cell_type": "markdown",
      "metadata": {
        "id": "tATn6PSyDQ-i"
      },
      "source": [
        "Загрузка параметров предобученной модели."
      ]
    },
    {
      "cell_type": "code",
      "metadata": {
        "id": "2jsthEY9DQ-i"
      },
      "source": [
        "ssd_model.to('cuda')\n",
        "ssd_model.eval()"
      ],
      "execution_count": null,
      "outputs": []
    },
    {
      "cell_type": "markdown",
      "metadata": {
        "id": "Kw4si42mDQ-i"
      },
      "source": [
        "Загрузка тестовых данных."
      ]
    },
    {
      "cell_type": "code",
      "metadata": {
        "id": "8eGyWJkjQQkL"
      },
      "source": [
        "IMAGE_DIR = os.path.abspath('/content/drive/MyDrive/test/')\n",
        "file_names = next(os.walk(IMAGE_DIR))[2]\n",
        "img1 = os.path.join(IMAGE_DIR, random.choice(file_names))"
      ],
      "execution_count": null,
      "outputs": []
    },
    {
      "cell_type": "code",
      "metadata": {
        "id": "VRuzEF5uDQ-i"
      },
      "source": [
        "uris = [\n",
        "    img1\n",
        "]\n",
        "uris"
      ],
      "execution_count": null,
      "outputs": []
    },
    {
      "cell_type": "markdown",
      "metadata": {
        "id": "l2fol3zIDQ-i"
      },
      "source": [
        "Предобработка изображений."
      ]
    },
    {
      "cell_type": "code",
      "metadata": {
        "id": "nT8sn8CuDQ-i"
      },
      "source": [
        "inputs = [utils.prepare_input(uri) for uri in uris]"
      ],
      "execution_count": null,
      "outputs": []
    },
    {
      "cell_type": "markdown",
      "metadata": {
        "id": "DHUXYw9JDQ-i"
      },
      "source": [
        "Запускаем SSD сеть."
      ]
    },
    {
      "cell_type": "code",
      "metadata": {
        "id": "lmm5OzJ-DQ-i"
      },
      "source": [
        "%%time\n",
        "tensor = utils.prepare_tensor(inputs, precision == 'fp16')\n",
        "with torch.no_grad():\n",
        "    detections_batch = ssd_model(tensor)"
      ],
      "execution_count": null,
      "outputs": []
    },
    {
      "cell_type": "markdown",
      "metadata": {
        "id": "Yd5_rtQoDQ-i"
      },
      "source": [
        "Сеть выдаёт координаты рамок и вероятность того или иного объекта в этих рамках. Уберём лишние и оставим только те, где вероятность больше 40%"
      ]
    },
    {
      "cell_type": "code",
      "metadata": {
        "id": "iaaiKjr8DQ-i"
      },
      "source": [
        "results_per_input = utils.decode_results(detections_batch)\n",
        "best_results_per_input = [utils.pick_best(results, 0.40) for results in results_per_input]"
      ],
      "execution_count": null,
      "outputs": []
    },
    {
      "cell_type": "markdown",
      "metadata": {
        "id": "x8Wd8XH5DQ-i"
      },
      "source": [
        "Загрузка классов объектов датасета COCO."
      ]
    },
    {
      "cell_type": "code",
      "metadata": {
        "id": "99qGOsWkDQ-i"
      },
      "source": [
        "classes_to_labels = utils.get_coco_object_dictionary()"
      ],
      "execution_count": null,
      "outputs": []
    },
    {
      "cell_type": "markdown",
      "metadata": {
        "id": "jG_fo55XDQ-i"
      },
      "source": [
        "Визуализация результатов."
      ]
    },
    {
      "cell_type": "code",
      "metadata": {
        "id": "9hRMKLg7DQ-i"
      },
      "source": [
        "from matplotlib import pyplot as plt\n",
        "import matplotlib.patches as patches\n",
        "\n",
        "for image_idx in range(len(best_results_per_input)):\n",
        "    fig, ax = plt.subplots(1)\n",
        "    image = inputs[image_idx] / 2 + 0.5\n",
        "    ax.imshow(image)\n",
        "    bboxes, classes, confidences = best_results_per_input[image_idx]\n",
        "    for idx in range(len(bboxes)):\n",
        "        left, bot, right, top = bboxes[idx]\n",
        "        x, y, w, h = [val * 300 for val in [left, bot, right - left, top - bot]]\n",
        "        rect = patches.Rectangle((x, y), w, h, linewidth=1, edgecolor='r', facecolor='none')\n",
        "        ax.add_patch(rect)\n",
        "        ax.text(x, y, \"{} {:.0f}%\".format(classes_to_labels[classes[idx] - 1], confidences[idx]*100), bbox=dict(facecolor='white', alpha=0.5))\n",
        "plt.show()"
      ],
      "execution_count": null,
      "outputs": []
    },
    {
      "cell_type": "code",
      "metadata": {
        "id": "PIRc9Z66xl6A"
      },
      "source": [
        "directory = '/content/drive/MyDrive/test_1/'\n",
        "files = os.listdir(directory)\n",
        "uris = [directory+i for i in files]\n"
      ],
      "execution_count": null,
      "outputs": []
    },
    {
      "cell_type": "code",
      "metadata": {
        "id": "EyD0SCxJxvm9"
      },
      "source": [
        "%%time\n",
        "inputs = [utils.prepare_input(uri) for uri in uris]\n",
        "tensor = utils.prepare_tensor(inputs, precision == 'fp16')\n",
        "with torch.no_grad():\n",
        "    detections_batch = ssd_model(tensor)"
      ],
      "execution_count": null,
      "outputs": []
    },
    {
      "cell_type": "code",
      "metadata": {
        "id": "3PnKm5xpyXWo"
      },
      "source": [
        "results_per_input = utils.decode_results(detections_batch)\n",
        "best_results_per_input = [utils.pick_best(results, 0.40) for results in results_per_input]\n",
        "for image_idx in range(len(best_results_per_input)):\n",
        "    fig, ax = plt.subplots(1)\n",
        "    image = inputs[image_idx] / 2 + 0.5\n",
        "    ax.imshow(image)\n",
        "    bboxes, classes, confidences = best_results_per_input[image_idx]\n",
        "    for idx in range(len(bboxes)):\n",
        "        left, bot, right, top = bboxes[idx]\n",
        "        x, y, w, h = [val * 300 for val in [left, bot, right - left, top - bot]]\n",
        "        rect = patches.Rectangle((x, y), w, h, linewidth=1, edgecolor='r', facecolor='none')\n",
        "        ax.add_patch(rect)\n",
        "        ax.text(x, y, \"{} {:.0f}%\".format(classes_to_labels[classes[idx] - 1], confidences[idx]*100), bbox=dict(facecolor='white', alpha=0.5))\n",
        "plt.show()"
      ],
      "execution_count": null,
      "outputs": []
    },
    {
      "cell_type": "markdown",
      "metadata": {
        "id": "0AXovJtNcKby"
      },
      "source": [
        "Тест на самостоятельно загруженной фотографии"
      ]
    },
    {
      "cell_type": "code",
      "metadata": {
        "id": "sJ4_VdndCF90"
      },
      "source": [
        "from google.colab import files\n",
        "\n",
        "uploaded = files.upload()\n",
        "\n",
        "for fn in uploaded.keys():\n",
        "  print('User uploaded file \"{name}\" with length {length} bytes'.format(\n",
        "      name=fn, length=len(uploaded[fn])))\n",
        "  up_f = fn"
      ],
      "execution_count": null,
      "outputs": []
    },
    {
      "cell_type": "code",
      "metadata": {
        "id": "SJjhNdcmngYA"
      },
      "source": [
        "uris = [\n",
        "    up_f\n",
        "]"
      ],
      "execution_count": null,
      "outputs": []
    },
    {
      "cell_type": "code",
      "metadata": {
        "id": "_P9rR9XpGcAG"
      },
      "source": [
        "%%time\n",
        "inputs = [utils.prepare_input(uri) for uri in uris]\n",
        "tensor = utils.prepare_tensor(inputs, precision == 'fp16')\n",
        "with torch.no_grad():\n",
        "    detections_batch = ssd_model(tensor)"
      ],
      "execution_count": null,
      "outputs": []
    },
    {
      "cell_type": "code",
      "metadata": {
        "id": "jl7hFPn0nkZd"
      },
      "source": [
        "results_per_input = utils.decode_results(detections_batch)\n",
        "best_results_per_input = [utils.pick_best(results, 0.40) for results in results_per_input]\n",
        "for image_idx in range(len(best_results_per_input)):\n",
        "    fig, ax = plt.subplots(1)\n",
        "    image = inputs[image_idx] / 2 + 0.5\n",
        "    ax.imshow(image)\n",
        "    bboxes, classes, confidences = best_results_per_input[image_idx]\n",
        "    for idx in range(len(bboxes)):\n",
        "        left, bot, right, top = bboxes[idx]\n",
        "        x, y, w, h = [val * 300 for val in [left, bot, right - left, top - bot]]\n",
        "        rect = patches.Rectangle((x, y), w, h, linewidth=1, edgecolor='r', facecolor='none')\n",
        "        ax.add_patch(rect)\n",
        "        ax.text(x, y, \"{} {:.0f}%\".format(classes_to_labels[classes[idx] - 1], confidences[idx]*100), bbox=dict(facecolor='white', alpha=0.5))\n",
        "plt.show()"
      ],
      "execution_count": null,
      "outputs": []
    },
    {
      "cell_type": "code",
      "metadata": {
        "id": "z0EzpJ5QclrO"
      },
      "source": [
        ""
      ],
      "execution_count": null,
      "outputs": []
    }
  ]
}