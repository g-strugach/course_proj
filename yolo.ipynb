{
  "nbformat": 4,
  "nbformat_minor": 0,
  "metadata": {
    "colab": {
      "name": "yolo.ipynb",
      "provenance": [],
      "collapsed_sections": []
    },
    "kernelspec": {
      "name": "python3",
      "display_name": "Python 3"
    },
    "accelerator": "GPU"
  },
  "cells": [
    {
      "cell_type": "code",
      "metadata": {
        "id": "ZiK3xE_Iw3BD"
      },
      "source": [
        "from google.colab import drive\n",
        "drive.mount('/content/drive')"
      ],
      "execution_count": null,
      "outputs": []
    },
    {
      "cell_type": "markdown",
      "metadata": {
        "id": "9OOj545HD1bR"
      },
      "source": [
        "Загрузка необходимый библиотек и файлов"
      ]
    },
    {
      "cell_type": "code",
      "metadata": {
        "id": "h6LKbDNYEpWZ"
      },
      "source": [
        "!pip install -U opencv-python pillow pyyaml tqdm"
      ],
      "execution_count": null,
      "outputs": []
    },
    {
      "cell_type": "code",
      "metadata": {
        "id": "lJkRoe1PEpWa"
      },
      "source": [
        "import cv2\n",
        "import torch\n",
        "import os\n",
        "from PIL import Image\n",
        "import random\n",
        "import matplotlib.pyplot as plt\n",
        "\n",
        "# Загрузка модели\n",
        "model = torch.hub.load('ultralytics/yolov5', 'yolov5s', pretrained=True).fuse().autoshape() \n"
      ],
      "execution_count": null,
      "outputs": []
    },
    {
      "cell_type": "code",
      "metadata": {
        "id": "Ha_LCXAYxSsO"
      },
      "source": [
        "IMAGE_DIR = '/content/drive/MyDrive/test'\n",
        "file_names = next(os.walk(IMAGE_DIR))[2]\n",
        "img1 = os.path.join(IMAGE_DIR, random.choice(file_names))"
      ],
      "execution_count": null,
      "outputs": []
    },
    {
      "cell_type": "code",
      "metadata": {
        "id": "KwB93H_MD6Yy"
      },
      "source": [
        "import matplotlib.patches as patches\n",
        "# Images\n",
        "img2 = cv2.imread(img1)[:, :, ::-1]\n",
        "imgs = [img2]\n",
        "\n",
        "%time results = model(imgs)\n",
        "\n",
        "results.print()  # .show() results, .save() jpgs, or .print() to screen\n",
        "\n",
        "#print(results.xyxy[0])\n",
        "#results.pred"
      ],
      "execution_count": null,
      "outputs": []
    },
    {
      "cell_type": "code",
      "metadata": {
        "id": "vcC_11NbkENO"
      },
      "source": [
        "#img2 = cv2.imread(img1)\n",
        "fig, ax = plt.subplots(1)\n",
        "image = img2\n",
        "ax.imshow(image)\n",
        "#bboxes, classes, confidences = best_results_per_input[image_idx]\n",
        "for idx in range(len(results.xyxy[0])):\n",
        "    left, bot, right, top, x1, x2 = results.xyxy[0][idx]\n",
        "    x, y, w, h = [val for val in [left, bot, right - left, top - bot]]\n",
        "    rect = patches.Rectangle((x, y), w, h, linewidth=1, edgecolor='r', facecolor='none')\n",
        "    ax.add_patch(rect)\n",
        "    #ax.text(x, y, \"{} {:.0f}%\".format(classes_to_labels[classes[idx] - 1], confidences[idx]*100), bbox=dict(facecolor='white', alpha=0.5))\n",
        "plt.show()"
      ],
      "execution_count": null,
      "outputs": []
    },
    {
      "cell_type": "code",
      "metadata": {
        "id": "5JXi52ujzDxs"
      },
      "source": [
        "directory = '/content/drive/MyDrive/test_1/'\n",
        "files = os.listdir(directory)\n",
        "imgs = []\n",
        "for i in files:\n",
        "  path = directory + i\n",
        "  img2 = cv2.imread(path)[:, :, ::-1]\n",
        "  imgs.append(img2)\n",
        "imgs_1 = imgs"
      ],
      "execution_count": null,
      "outputs": []
    },
    {
      "cell_type": "code",
      "metadata": {
        "id": "t9PtnapfzwTS"
      },
      "source": [
        "%time results = model(imgs)\n",
        "\n",
        "results.print()"
      ],
      "execution_count": null,
      "outputs": []
    },
    {
      "cell_type": "code",
      "metadata": {
        "id": "Nmi0xUYf0x7Z"
      },
      "source": [
        "for idx in range(len(results.xyxy)):\n",
        "  fig, ax = plt.subplots(1)\n",
        "  image = imgs[idx]\n",
        "  ax.imshow(image)\n",
        "  for j in range(len(results.xyxy[idx])):\n",
        "    left, bot, right, top, x1, x2 = results.xyxy[idx][j]\n",
        "    x, y, w, h = [val for val in [left, bot, right - left, top - bot]]\n",
        "    rect = patches.Rectangle((x, y), w, h, linewidth=1, edgecolor='r', facecolor='none')\n",
        "    ax.add_patch(rect)\n",
        "    #ax.text(x, y, \"{} {:.0f}%\".format(classes_to_labels[classes[idx] - 1], confidences[idx]*100), bbox=dict(facecolor='white', alpha=0.5))\n",
        "plt.show()\n"
      ],
      "execution_count": null,
      "outputs": []
    },
    {
      "cell_type": "code",
      "metadata": {
        "id": "GY97sNLLD1kq"
      },
      "source": [
        "from google.colab import files\n",
        "\n",
        "uploaded = files.upload()\n",
        "\n",
        "for fn in uploaded.keys():\n",
        "  print('User uploaded file \"{name}\" with length {length} bytes'.format(\n",
        "      name=fn, length=len(uploaded[fn])))\n",
        "  up_f = fn"
      ],
      "execution_count": null,
      "outputs": []
    },
    {
      "cell_type": "code",
      "metadata": {
        "id": "NfYdZ3Le9qhG"
      },
      "source": [
        "img2 = cv2.imread(up_f)[:, :, ::-1]\n",
        "imgs = [img2]\n",
        "\n",
        "%time results = model(imgs)\n",
        "\n",
        "results.print()\n",
        "fig, ax = plt.subplots(1)\n",
        "image = img2\n",
        "ax.imshow(image)\n",
        "#bboxes, classes, confidences = best_results_per_input[image_idx]\n",
        "for idx in range(len(results.xyxy[0])):\n",
        "    left, bot, right, top, x1, x2 = results.xyxy[0][idx]\n",
        "    x, y, w, h = [val for val in [left, bot, right - left, top - bot]]\n",
        "    rect = patches.Rectangle((x, y), w, h, linewidth=1, edgecolor='r', facecolor='none')\n",
        "    ax.add_patch(rect)\n",
        "    #ax.text(x, y, \"{} {:.0f}%\".format(classes_to_labels[classes[idx] - 1], confidences[idx]*100), bbox=dict(facecolor='white', alpha=0.5))\n",
        "plt.show()"
      ],
      "execution_count": null,
      "outputs": []
    },
    {
      "cell_type": "code",
      "metadata": {
        "id": "uxN-NOqCoBbj"
      },
      "source": [
        ""
      ],
      "execution_count": null,
      "outputs": []
    }
  ]
}